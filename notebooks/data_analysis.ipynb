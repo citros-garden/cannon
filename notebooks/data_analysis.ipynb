{
 "cells": [
  {
   "cell_type": "markdown",
   "id": "7854bb97-42c7-47c2-a8f1-d3b00683bf11",
   "metadata": {},
   "source": []
  },
  {
   "cell_type": "markdown",
   "id": "a22d814c-11dd-46d3-87d9-fcc3e36800c2",
   "metadata": {},
   "source": [
    "Table of contents:\n",
    "\n",
    "[Repository and batch information](#repository-and-batch-information)\n",
    "\n",
    "[Query data](#query-data)\n",
    "  - [Make queries](#make-queries)\n",
    "  - [Query and rename columns](#query-and-rename-columns)\n",
    "  - [Query initial parameters](#query-initial-parameters)\n",
    "  - [Data features](#data-features)\n",
    "    - [Maximum and minimum values](#maximum-and-minimum-values)\n",
    "    - [Maximum height](#maximum-height)\n",
    "    - [Maximum flight range](#maximum-flight-range)\n",
    "    - [Unique values](#unique-values)\n",
    "    - [Number of unique values](#number-of-unique-values)\n",
    "\n",
    "[Plots](#plots)\n",
    "  - [Quick plots](#quick-plots)\n",
    "    - [Quick x vs. y plot](#quick-x-vs.-y-plot)\n",
    "    - [Time plot](#time-plot)\n",
    "\n",
    "  - [Advanced plots](#advanced-plots)\n",
    "    - [x vs. y plot](#x-vs.-y-plot)\n",
    "    - [Subplots with a shared x-axis](#subplots-with-a-shared-x-axis)\n",
    "    - [Ellipse error plot](#ellipse-error-plot)\n",
    "\n",
    "[Statistics](#statistics)\n",
    "\n",
    "[Correlation](#correlation)\n",
    "\n",
    "[Validation](#validation)\n",
    "  - [Check velocity standard deviation boundary](#check-velocity-standard-deviation-boundary)\n",
    "  - [Check velocity standard deviation](#check-velocity-standard-deviation)\n",
    "  - [Check mean velocity value](#check-mean-velocity-value)\n",
    "  - [Check velocity of each simulation](#check-velocity-of-each-simulation)\n",
    "  - [Check maximum distance](#check-maximum-distance)"
   ]
  },
  {
   "cell_type": "markdown",
   "id": "c2b1f996-81f8-444a-b312-08dfd649622f",
   "metadata": {},
   "source": [
    "The batch 'cannon_simulation_run' contains 10 simulations. \n",
    "For initial parameters, each simulation is assigned a unique initial angle, chosen from a normal distribution with a \n",
    "mean of 45 and a standard deviation of 15. The initial speed varies slightly: it's set to 50 for the first \n",
    "simulation and then increases uniformly by 1 for each subsequent simulation. Let's define the variable with the name of this batch as `my_batch`:"
   ]
  },
  {
   "cell_type": "code",
   "execution_count": null,
   "id": "fb8c47fc-73ac-4dd8-854c-9787d16dcf49",
   "metadata": {
    "execution": {
     "iopub.execute_input": "2024-02-14T13:53:32.981029Z",
     "iopub.status.busy": "2024-02-14T13:53:32.980553Z",
     "iopub.status.idle": "2024-02-14T13:53:32.997082Z",
     "shell.execute_reply": "2024-02-14T13:53:32.996113Z"
    }
   },
   "outputs": [],
   "source": [
    "import os\n",
    "print(\"report info\")\n",
    "print(os.getenv(\"REPORT_NANE\"))\n",
    "print(os.getenv(\"REPORT_MESSAGE\"))\n",
    "print(os.getenv(\"REPORT_VERSION\"))\n",
    "\n",
    "print(\"batch info\")\n",
    "print(os.getenv(\"BATCH_SIMULATION\"))\n",
    "print(os.getenv(\"BATCH_NAME\"))\n",
    "print(os.getenv(\"BATCH_VERSION\"))\n",
    "print(os.getenv(\"BATCH_MESSAGE\"))\n",
    "\n",
    "my_simulation = os.getenv(\"BATCH_SIMULATION\",\"simulation_cannon_analytic\")\n",
    "my_batch = os.getenv(\"BATCH_NAME\",\"citros\")"
   ]
  },
  {
   "cell_type": "markdown",
   "metadata": {},
   "source": []
  },
  {
   "cell_type": "markdown",
   "id": "b2be1a7e-06eb-45c0-86e9-e675d8bf72a6",
   "metadata": {},
   "source": [
    "Download the `data_access` module, which allows you to retrieve general information about the repositories and batches, as well as query and visualize data:"
   ]
  },
  {
   "cell_type": "code",
   "execution_count": null,
   "id": "dbe41723-0b96-4187-84a8-881ff8ca65e6",
   "metadata": {
    "execution": {
     "iopub.execute_input": "2024-02-14T13:53:33.029021Z",
     "iopub.status.busy": "2024-02-14T13:53:33.028798Z",
     "iopub.status.idle": "2024-02-14T13:53:34.538652Z",
     "shell.execute_reply": "2024-02-14T13:53:34.538156Z"
    }
   },
   "outputs": [],
   "source": [
    "from citros import CitrosDB\n",
    "citros = CitrosDB()"
   ]
  },
  {
   "cell_type": "markdown",
   "id": "57e47778-3f1c-4de8-95e8-aee2669fb53a",
   "metadata": {},
   "source": [
    "To get general information about the batch content, execute `info()` method. \n",
    "\n",
    "It returns dictionary, that contains:\n",
    "   - 'size': size of the selected data\n",
    "   - 'sid_count': number of sids\n",
    "   - 'sid_list': list of the sids\n",
    "   - 'topic_count': number of topics\n",
    "   - 'topic_list': list of topics\n",
    "   - 'message_count': number of messages\n",
    "\n",
    "Show information about topics of the batch 'cannon_simulation_run':"
   ]
  },
  {
   "cell_type": "code",
   "execution_count": null,
   "id": "bbf83c5b-b64f-4925-a739-9b96a0583016",
   "metadata": {
    "execution": {
     "iopub.execute_input": "2024-02-14T13:53:34.541194Z",
     "iopub.status.busy": "2024-02-14T13:53:34.540822Z",
     "iopub.status.idle": "2024-02-14T13:53:34.549887Z",
     "shell.execute_reply": "2024-02-14T13:53:34.549466Z"
    }
   },
   "outputs": [],
   "source": [
    "citros.simulation(my_simulation).batch(my_batch).info().print()"
   ]
  },
  {
   "cell_type": "markdown",
   "id": "5edfc417-eb5b-4b12-bad8-e7db6c26ee58",
   "metadata": {},
   "source": [
    "We see that 'cannon_simulation_run' contains 10 simulations and 3 topics. \n",
    "The data is stored under '/cannon/state' topic.\n",
    "\n",
    "Let's show information for the topic '/cannon/state':"
   ]
  },
  {
   "cell_type": "code",
   "execution_count": null,
   "id": "bb791555-cb41-4b4d-a5f0-149e48a92ddc",
   "metadata": {
    "execution": {
     "iopub.execute_input": "2024-02-14T13:53:34.551635Z",
     "iopub.status.busy": "2024-02-14T13:53:34.551474Z",
     "iopub.status.idle": "2024-02-14T13:53:34.554681Z",
     "shell.execute_reply": "2024-02-14T13:53:34.554313Z"
    }
   },
   "outputs": [],
   "source": [
    "citros.simulation(my_simulation).batch(my_batch).topic('/cannon/state').info().print()"
   ]
  },
  {
   "cell_type": "markdown",
   "id": "c4cb3953-49f8-4ec1-9d2f-46574517fc72",
   "metadata": {},
   "source": [
    "Let's display only information about the data structure:"
   ]
  },
  {
   "cell_type": "code",
   "execution_count": null,
   "id": "3f4912b4-b5cf-4b82-91c9-484beb5b7f5d",
   "metadata": {
    "execution": {
     "iopub.execute_input": "2024-02-14T13:53:34.556479Z",
     "iopub.status.busy": "2024-02-14T13:53:34.556333Z",
     "iopub.status.idle": "2024-02-14T13:53:34.744575Z",
     "shell.execute_reply": "2024-02-14T13:53:34.743967Z"
    }
   },
   "outputs": [],
   "source": [
    "citros.simulation(my_simulation).batch(my_batch).topic('/cannon/state').info()['topics']['/cannon/state']['data_structure'].print()"
   ]
  },
  {
   "cell_type": "markdown",
   "id": "2d8494fa-c2d9-490d-b69c-2e23cb1a9a05",
   "metadata": {},
   "source": [
    "The initial parameters are stored in the '/config' topic. Typically, one topic corresponds to a single type. \n",
    "However, certain topics, like '/config', can encompass multiple types. \n",
    "Within '/config', each simulation scenario assigns a unique type to every simulation run (represented by each 'sid'). \n",
    "These types can be found under the 'type' keyword.\n",
    "\n",
    "Furthermore, some types can vary in their data structure. \n",
    "Consequently, types are categorized based on their data structure and are labeled as 'type_group_0', 'type_group_1', and so forth.\n",
    "\n",
    "Let's examine the '/config' topic in the 'cannon' repository as an example. \n",
    "Here, some type groups have differing data structures, yet they all correspond to the single '/config' topic:"
   ]
  },
  {
   "cell_type": "code",
   "execution_count": null,
   "id": "921660e0-5220-4019-86b6-98e84fecaeda",
   "metadata": {
    "execution": {
     "iopub.execute_input": "2024-02-14T13:50:32.056765Z",
     "iopub.status.busy": "2024-02-14T13:50:32.056585Z",
     "iopub.status.idle": "2024-02-14T13:50:32.063967Z",
     "shell.execute_reply": "2024-02-14T13:50:32.063553Z"
    }
   },
   "outputs": [],
   "source": [
    "citros.simulation(my_simulation).batch(my_batch).topic('/config').info().print()"
   ]
  },
  {
   "cell_type": "markdown",
   "id": "b2007264-76dc-43dc-a81c-d428d40510c6",
   "metadata": {},
   "source": [
    "## Query data"
   ]
  },
  {
   "cell_type": "markdown",
   "id": "34051a27-9536-4be0-9e7d-107859259f88",
   "metadata": {},
   "source": [
    "### Make queries"
   ]
  },
  {
   "cell_type": "markdown",
   "id": "956396ad-435f-47de-8c15-c76332036923",
   "metadata": {},
   "source": [
    "To query batch the method `data()` is used. The output is a pandas.DataFrame.\n",
    "\n",
    "The simulated data is always written in 'data' column of the batch and has a json format. That means that it either contains json objects \n",
    "(in python correspond to dict format) or json arrays (which are correspond to list in python). Also they can be nested one into another.\n",
    "\n",
    "As it can be seen from the previous output, column 'data' has two json objects: 'data.data' and 'data.\\_\\_msgtype__'.\n",
    "Let's get values from 'data.data':"
   ]
  },
  {
   "cell_type": "code",
   "execution_count": null,
   "id": "225e79cd-0495-4072-a3e7-8ea5e53cb365",
   "metadata": {
    "execution": {
     "iopub.execute_input": "2024-02-14T13:50:32.065624Z",
     "iopub.status.busy": "2024-02-14T13:50:32.065459Z",
     "iopub.status.idle": "2024-02-14T13:50:32.101425Z",
     "shell.execute_reply": "2024-02-14T13:50:32.100970Z"
    }
   },
   "outputs": [],
   "source": [
    "citros.simulation(my_simulation).batch(my_batch).topic('/cannon/state').data('data.data').head(5)\n",
    "\n",
    "#As the output is a pandas.DataFrame, all its methods can be applied. The method head(n) retains only the first n rows"
   ]
  },
  {
   "cell_type": "markdown",
   "id": "5af357d9-8098-49bd-82c0-2925b916a167",
   "metadata": {},
   "source": [
    "To get data from several json objects, pass them as a list to `data()` method:"
   ]
  },
  {
   "cell_type": "code",
   "execution_count": null,
   "id": "3a0a9857-2189-4e4b-8187-95cb46fcedf0",
   "metadata": {
    "execution": {
     "iopub.execute_input": "2024-02-14T13:50:32.103429Z",
     "iopub.status.busy": "2024-02-14T13:50:32.103259Z",
     "iopub.status.idle": "2024-02-14T13:50:32.148014Z",
     "shell.execute_reply": "2024-02-14T13:50:32.147595Z"
    }
   },
   "outputs": [],
   "source": [
    "citros.simulation(my_simulation).batch(my_batch).topic('/cannon/state').data(['data.data', 'data.__msgtype__']).head(5)"
   ]
  },
  {
   "cell_type": "markdown",
   "id": "d37c1e35-ff65-4326-9fee-49909810995f",
   "metadata": {},
   "source": [
    "When the `data()` method is called without any arguments, the entire content of the 'data' column is downloaded, \n",
    "with each json object separated into individual columns. \n",
    "Since there are only two json objects, the result will be identical to the previous case where the labels were explicitly \n",
    "listed and passed as an argument:"
   ]
  },
  {
   "cell_type": "code",
   "execution_count": null,
   "id": "221b8f39-7cfa-4bfb-9d01-81d1c255ff0e",
   "metadata": {
    "execution": {
     "iopub.execute_input": "2024-02-14T13:50:32.149818Z",
     "iopub.status.busy": "2024-02-14T13:50:32.149651Z",
     "iopub.status.idle": "2024-02-14T13:50:32.234176Z",
     "shell.execute_reply": "2024-02-14T13:50:32.233682Z"
    }
   },
   "outputs": [],
   "source": [
    "citros.simulation(my_simulation).batch(my_batch).topic('/cannon/state').data().head(5)"
   ]
  },
  {
   "cell_type": "markdown",
   "id": "4bd66c7b-46f5-40e0-a3d7-f91a498fe4f3",
   "metadata": {},
   "source": [
    "As mentioned in the 'cannon' repository description, the outcome of the simulation is an array of two coordinates and two velocities:\n",
    "['position_x', 'position_y', 'velocity_x', 'velocity_y'].\n",
    "To get, for example, only data corresponding to position_x, specify index 0:"
   ]
  },
  {
   "cell_type": "code",
   "execution_count": null,
   "id": "c2f8fed9-21f2-421b-8b71-8338269c607b",
   "metadata": {
    "execution": {
     "iopub.execute_input": "2024-02-14T13:50:32.236096Z",
     "iopub.status.busy": "2024-02-14T13:50:32.235918Z",
     "iopub.status.idle": "2024-02-14T13:50:32.263001Z",
     "shell.execute_reply": "2024-02-14T13:50:32.262438Z"
    }
   },
   "outputs": [],
   "source": [
    "citros.simulation(my_simulation).batch(my_batch).topic('/cannon/state').data('data.data[0]').head(5)"
   ]
  },
  {
   "cell_type": "markdown",
   "id": "9657fb9b-676a-4ed2-8819-ece812e0cfa6",
   "metadata": {},
   "source": [
    "To get only velocities, velocity_x and velocity_y:"
   ]
  },
  {
   "cell_type": "code",
   "execution_count": null,
   "id": "9b872333-8a6b-410e-a82e-fbdbe7c68aae",
   "metadata": {
    "execution": {
     "iopub.execute_input": "2024-02-14T13:50:32.265005Z",
     "iopub.status.busy": "2024-02-14T13:50:32.264670Z",
     "iopub.status.idle": "2024-02-14T13:50:32.303094Z",
     "shell.execute_reply": "2024-02-14T13:50:32.302714Z"
    }
   },
   "outputs": [],
   "source": [
    "citros.simulation(my_simulation).batch(my_batch).topic('/cannon/state').data(['data.data[2]','data.data[3]']).head(5)"
   ]
  },
  {
   "cell_type": "markdown",
   "id": "09f28a0f-6211-420e-970c-a8b9a764cb9f",
   "metadata": {},
   "source": [
    "To get data only for specific simulations, indicate them by `sid()` method before calling `data()`. \n",
    "For example, to get position_y data only for simulations 2 and 3:"
   ]
  },
  {
   "cell_type": "code",
   "execution_count": null,
   "id": "f7ad1e92-9ca3-42bd-837a-5b0ecc13baa3",
   "metadata": {
    "execution": {
     "iopub.execute_input": "2024-02-14T13:50:32.304795Z",
     "iopub.status.busy": "2024-02-14T13:50:32.304626Z",
     "iopub.status.idle": "2024-02-14T13:50:32.317848Z",
     "shell.execute_reply": "2024-02-14T13:50:32.317180Z"
    }
   },
   "outputs": [],
   "source": [
    "citros.simulation(my_simulation).batch(my_batch).topic('/cannon/state').sid([0, 2]).data('data.data[1]')"
   ]
  },
  {
   "cell_type": "markdown",
   "id": "51b33584-7008-46df-a587-215c5f9d24fc",
   "metadata": {},
   "source": [
    "See the [documentation](https://citros.io/doc/docs_data_analysis) of the **citros_data_analysis** package to learn more \n",
    "about possible constraints and sampling methods that may be applied during querying."
   ]
  },
  {
   "cell_type": "markdown",
   "id": "89ed1fc7-8df7-4b45-8d82-85e4b3ecb4ff",
   "metadata": {},
   "source": [
    "### Query and rename columns\n",
    "\n",
    "Let's retrieve data on positions and velocities, separate the array content into individual columns, and assign appropriate names to the columns\n",
    " of the resulting pandas.DataFrame:"
   ]
  },
  {
   "cell_type": "code",
   "execution_count": null,
   "id": "e15881c4-9551-48ea-a9dc-4877173a8daf",
   "metadata": {
    "execution": {
     "iopub.execute_input": "2024-02-14T13:50:32.319705Z",
     "iopub.status.busy": "2024-02-14T13:50:32.319541Z",
     "iopub.status.idle": "2024-02-14T13:50:32.376166Z",
     "shell.execute_reply": "2024-02-14T13:50:32.375631Z"
    }
   },
   "outputs": [],
   "source": [
    "column_names = ['position_x', 'position_y', 'velocity_x', 'velocity_y']\n",
    "query = ['data.data['+str(i)+']' for i in range(len(column_names))]\n",
    "\n",
    "F = citros.simulation(my_simulation).batch(my_batch).topic('/cannon/state').data(query)\n",
    "F.rename({query[i]: column_names[i] for i in range(len(query))}, axis = 1, inplace = True)\n",
    "\n",
    "print(F)"
   ]
  },
  {
   "cell_type": "markdown",
   "id": "341a4108-61e4-447e-841c-0f7b398f5675",
   "metadata": {},
   "source": [
    "### Query initial parameters\n",
    "\n",
    "As it was stated at the beggining of the notebook, batch `my_batch` was created in cannon_analytic simulation, where the initial angle was \n",
    "chosen randomly around 45 degrees and the initial velocity was increased by one each simulation, starting at 50.\n",
    "To get table with the initial parameters for cannon_analytic the following steps may be executed:"
   ]
  },
  {
   "cell_type": "code",
   "execution_count": null,
   "id": "f77070e8-e287-4cb6-9470-6b891f551715",
   "metadata": {
    "execution": {
     "iopub.execute_input": "2024-02-14T13:50:32.378076Z",
     "iopub.status.busy": "2024-02-14T13:50:32.377916Z",
     "iopub.status.idle": "2024-02-14T13:50:32.388647Z",
     "shell.execute_reply": "2024-02-14T13:50:32.388142Z"
    }
   },
   "outputs": [],
   "source": [
    "\n",
    "init_param = citros.simulation(my_simulation).batch(my_batch).topic('/config').data()\n",
    "print(init_param)"
   ]
  },
  {
   "cell_type": "markdown",
   "id": "15a4a3b9-1eb7-4a81-9027-53e793ea5846",
   "metadata": {},
   "source": [
    "## Data features"
   ]
  },
  {
   "cell_type": "markdown",
   "id": "6689647b-90fe-414a-9b9c-484135516ccc",
   "metadata": {},
   "source": [
    "### Maximum and minimum values\n",
    "\n",
    "For the simulation with sid = 0, let's determine the maximum and minimum values of 'position_y', which corresponds to the 'data.data[1]' column:"
   ]
  },
  {
   "cell_type": "code",
   "execution_count": null,
   "id": "e5f41ac4-b341-4d03-82d3-ec0459ff623d",
   "metadata": {
    "execution": {
     "iopub.execute_input": "2024-02-14T13:50:32.390625Z",
     "iopub.status.busy": "2024-02-14T13:50:32.390315Z",
     "iopub.status.idle": "2024-02-14T13:50:32.397857Z",
     "shell.execute_reply": "2024-02-14T13:50:32.397326Z"
    }
   },
   "outputs": [],
   "source": [
    "column_name = 'data.data[1]'\n",
    "\n",
    "result_max = citros.simulation(my_simulation).batch(my_batch).topic('/cannon/state').sid(0).get_max_value(column_name)\n",
    "result_min = citros.simulation(my_simulation).batch(my_batch).topic('/cannon/state').sid(0).get_min_value(column_name)\n",
    "\n",
    "print(f\"for sid = 0 max value of the column '{column_name}' : {result_max}\")\n",
    "print(f\"for sid = 0 min value of the column '{column_name}' : {result_min}\")"
   ]
  },
  {
   "cell_type": "markdown",
   "id": "67a8b48a-ae71-4aa7-a87b-acb557174de4",
   "metadata": {},
   "source": [
    "### Maximum height\n",
    "\n",
    "Let's find the simulation, in which the maximum height is achieved and print the sid of the simulation, \n",
    "x coordinate when the maximum height is approached and the initial parameters of this simulation from table `init_param`, \n",
    "that we obtained in [Query initial parameters](#query-initial-parameters):"
   ]
  },
  {
   "cell_type": "code",
   "execution_count": null,
   "id": "66f2eddb-ad3e-4142-a71d-3e284dc83b45",
   "metadata": {
    "execution": {
     "iopub.execute_input": "2024-02-14T13:50:32.399673Z",
     "iopub.status.busy": "2024-02-14T13:50:32.399505Z",
     "iopub.status.idle": "2024-02-14T13:50:32.413390Z",
     "shell.execute_reply": "2024-02-14T13:50:32.412793Z"
    }
   },
   "outputs": [],
   "source": [
    "column_name = 'data.data[1]'\n",
    "\n",
    "#set return_index = True to get the sid and rid of the max/min value\n",
    "result_max, sid_max, rid_max = citros.simulation(my_simulation).batch(my_batch).topic('/cannon/state').get_max_value(column_name, return_index = True)\n",
    "# print(result_max, sid_max, rid_max)\n",
    "\n",
    "x = citros.simulation(my_simulation).batch(my_batch).topic('/cannon/state').sid(sid_max).rid(rid_max).data('data.data[0]')['data.data[0]'].iloc[0]\n",
    "\n",
    "init_angle = init_param.set_index('sid').loc[sid_max]['data.analytic_dynamics.ros__parameters.init_angle']\n",
    "init_speed = init_param.set_index('sid').loc[sid_max]['data.analytic_dynamics.ros__parameters.init_speed']\n",
    "print(f\"The maximum height is achieved in simulation {sid_max} at x = {x}\")\n",
    "print(f\"the initial parameters are:\\ninitial angel = {init_angle},\\ninitial speed = {init_speed}\")"
   ]
  },
  {
   "cell_type": "markdown",
   "id": "d7f4c6ba-0f1e-49ec-ab05-ab4cfa21dd84",
   "metadata": {},
   "source": [
    "### Maximum flight range\n",
    "\n",
    "Let's find the simulation in which the maximum range of flight is achieved:"
   ]
  },
  {
   "cell_type": "code",
   "execution_count": null,
   "id": "55ce988b-75b9-4bb2-a3fa-c57ce1364d89",
   "metadata": {
    "execution": {
     "iopub.execute_input": "2024-02-14T13:50:32.415228Z",
     "iopub.status.busy": "2024-02-14T13:50:32.415058Z",
     "iopub.status.idle": "2024-02-14T13:50:32.426081Z",
     "shell.execute_reply": "2024-02-14T13:50:32.425544Z"
    }
   },
   "outputs": [],
   "source": [
    "column_name = 'data.data[0]'\n",
    "\n",
    "#set return_index = True to get the sid and rid of the max/min value\n",
    "result_max, sid_max, rid_max = citros.simulation(my_simulation).batch(my_batch).topic('/cannon/state').get_max_value(column_name, return_index = True)\n",
    "\n",
    "init_angle = init_param.set_index('sid').loc[sid_max]['data.analytic_dynamics.ros__parameters.init_angle']\n",
    "init_speed = init_param.set_index('sid').loc[sid_max]['data.analytic_dynamics.ros__parameters.init_speed']\n",
    "print(f\"The maximum flight range is achieved in simulation {sid_max}\")\n",
    "print(f\"the initial parameters are:\\ninitial angel = {init_angle},\\ninitial speed = {init_speed}\")"
   ]
  },
  {
   "cell_type": "markdown",
   "id": "73b88500-7021-4826-b56b-14d97835f251",
   "metadata": {},
   "source": [
    "### Unique values\n",
    "\n",
    "Print unique values by `get_unique_values()`. For example, one of the way to show all possible topics for the batch is the following:"
   ]
  },
  {
   "cell_type": "code",
   "execution_count": null,
   "id": "0cfc7a7e-764e-4e53-ae54-7455d6254ac9",
   "metadata": {
    "execution": {
     "iopub.execute_input": "2024-02-14T13:50:32.428034Z",
     "iopub.status.busy": "2024-02-14T13:50:32.427731Z",
     "iopub.status.idle": "2024-02-14T13:50:32.433262Z",
     "shell.execute_reply": "2024-02-14T13:50:32.432832Z"
    }
   },
   "outputs": [],
   "source": [
    "column_names = 'topic'\n",
    "result = citros.simulation(my_simulation).batch(my_batch).get_unique_values(column_names)\n",
    "\n",
    "print(result)"
   ]
  },
  {
   "cell_type": "markdown",
   "id": "a73dc92d-a4bb-4afb-bcc0-ef53e4d0b168",
   "metadata": {},
   "source": [
    "To get unique combination of values, specify their labels as a list.\n",
    "For example, to get unique combination of topic-type for the first simulation and print them as a table:"
   ]
  },
  {
   "cell_type": "code",
   "execution_count": null,
   "id": "0f0b9967-1ac4-4927-bfcf-bff9f89fc41c",
   "metadata": {
    "execution": {
     "iopub.execute_input": "2024-02-14T13:50:32.435160Z",
     "iopub.status.busy": "2024-02-14T13:50:32.434850Z",
     "iopub.status.idle": "2024-02-14T13:50:32.440247Z",
     "shell.execute_reply": "2024-02-14T13:50:32.439845Z"
    }
   },
   "outputs": [],
   "source": [
    "column_names = ['topic', 'type']\n",
    "result = citros.simulation(my_simulation).batch(my_batch).sid(0).get_unique_values(column_names)\n",
    "\n",
    "#print the result\n",
    "from prettytable import PrettyTable\n",
    "table = PrettyTable(field_names=column_names, align='r')\n",
    "table.add_rows(result)\n",
    "print(table)"
   ]
  },
  {
   "cell_type": "markdown",
   "id": "fdb998f6-3345-4a5d-b4d7-5b40b004eaa0",
   "metadata": {},
   "source": [
    "### Number of unique values\n",
    "\n",
    "Print number of the unique values in the column \"type\" for the first simulation:"
   ]
  },
  {
   "cell_type": "code",
   "execution_count": null,
   "id": "4f7fea6c-f283-4deb-89d1-f241b70932f0",
   "metadata": {
    "execution": {
     "iopub.execute_input": "2024-02-14T13:50:32.442197Z",
     "iopub.status.busy": "2024-02-14T13:50:32.441862Z",
     "iopub.status.idle": "2024-02-14T13:50:32.450238Z",
     "shell.execute_reply": "2024-02-14T13:50:32.449776Z"
    }
   },
   "outputs": [],
   "source": [
    "#name of the column:\n",
    "column_name = 'type'\n",
    "\n",
    "counts = citros.simulation(my_simulation).batch(my_batch).topic('/cannon/state').sid([0]) .get_unique_counts(column_name)\n",
    "print(f\"number of unique values in column '{column_name}' for topic '/cannon/state': {counts[0][0]}\")\n",
    "\n",
    "#you may group the result, for example by topics:\n",
    "group_by = 'topic'\n",
    "counts = citros.simulation(my_simulation).batch(my_batch).sid([0]).get_unique_counts(column_name, group_by = group_by)\n",
    "\n",
    "print(f\"number of unique values in column '{column_name}':\")\n",
    "table = PrettyTable(field_names= [group_by, 'unique_counts'], align='r')\n",
    "table.add_rows(counts)\n",
    "table.border = False\n",
    "print(table)"
   ]
  },
  {
   "cell_type": "markdown",
   "id": "a63a14cb-1a9c-42e6-b391-d30f0793fd0a",
   "metadata": {},
   "source": [
    "## Plots"
   ]
  },
  {
   "cell_type": "markdown",
   "id": "721a806a-b883-4acf-bdd1-940517e93a0e",
   "metadata": {},
   "source": [
    "### Quick plots\n",
    "\n",
    "May be used to take a quick look on data without saving it."
   ]
  },
  {
   "cell_type": "markdown",
   "id": "d320b4e5-6a16-46f4-a39d-11622ee7c063",
   "metadata": {},
   "source": [
    "#### Quick x vs. y plot\n",
    "\n",
    "Plot 'position_y' vs. 'position_x' for sids = 1 and 2:"
   ]
  },
  {
   "cell_type": "code",
   "execution_count": null,
   "id": "d2ea6ca2-36cb-48b3-a99b-2f9907f60a84",
   "metadata": {
    "execution": {
     "iopub.execute_input": "2024-02-14T13:50:32.452058Z",
     "iopub.status.busy": "2024-02-14T13:50:32.451896Z",
     "iopub.status.idle": "2024-02-14T13:50:32.590164Z",
     "shell.execute_reply": "2024-02-14T13:50:32.589635Z"
    }
   },
   "outputs": [],
   "source": [
    "#import matplotlib\n",
    "import matplotlib.pyplot as plt\n",
    "\n",
    "#create a figure to plot on\n",
    "fig, ax = plt.subplots()\n",
    "\n",
    "citros.simulation(my_simulation).batch(my_batch).topic('/cannon/state').sid([0,1,2]).\\\n",
    "        xy_plot(ax, var_x_name = 'data.data[0]',var_y_name = 'data.data[1]',\n",
    "                x_label = 'x', y_label = 'y', title_text = 'y vs. x')"
   ]
  },
  {
   "cell_type": "markdown",
   "id": "5085655f-61f3-4934-9ea3-384b2359e4bd",
   "metadata": {},
   "source": [
    "#### Time plot\n",
    "\n",
    "In the 'cannon' example, the simulation results are recorded at intervals defined by the `dt` parameter, \n",
    "which is established in the setup. By multiplying the simulation step, 'rid', by `dt`, we can create a time scale.\n",
    "\n",
    "For the 'cannon_simulation_run' batch, the value of `dt` is set to 0.01.\n",
    "\n",
    "Then, to plot 'y' against time, proceed as follows:"
   ]
  },
  {
   "cell_type": "code",
   "execution_count": null,
   "id": "1f1eaeb1-3cd3-4932-8fca-fc213afbcce5",
   "metadata": {
    "execution": {
     "iopub.execute_input": "2024-02-14T13:50:32.592195Z",
     "iopub.status.busy": "2024-02-14T13:50:32.591972Z",
     "iopub.status.idle": "2024-02-14T13:50:32.745328Z",
     "shell.execute_reply": "2024-02-14T13:50:32.744959Z"
    }
   },
   "outputs": [],
   "source": [
    "#import matplotlib\n",
    "import matplotlib.pyplot as plt\n",
    "\n",
    "#create a figure to plot on\n",
    "fig, ax = plt.subplots()\n",
    "\n",
    "citros.simulation(my_simulation).batch(my_batch).topic('/cannon/state').sid([0,1,2,3,4]).\\\n",
    "       time_plot(ax, var_name = 'data.data[1]', time_step = 0.01, y_label = 'y', title_text = 'y vs. t')"
   ]
  },
  {
   "cell_type": "markdown",
   "id": "bb91a790-f41c-49d7-accd-444b7c7437cf",
   "metadata": {},
   "source": [
    "### Advanced plots\n",
    "\n",
    "In all the following examples the matplotlib.Figure and matplotlib.Axes are returned, that may be used for further plotting."
   ]
  },
  {
   "cell_type": "markdown",
   "id": "e4cbc736-66be-42eb-9497-f8e736a427e9",
   "metadata": {},
   "source": [
    "Let's query data and label columns in the same way as it was done [previously](#query-and-rename-columns).\n",
    "Let's also costruct a new column 't' based on 'rid' that represents time, as it was discussed [here](#time-plot)."
   ]
  },
  {
   "cell_type": "code",
   "execution_count": null,
   "id": "537b4ddc-ec1f-4579-9f81-8ba7488c004b",
   "metadata": {
    "execution": {
     "iopub.execute_input": "2024-02-14T13:50:32.747072Z",
     "iopub.status.busy": "2024-02-14T13:50:32.746903Z",
     "iopub.status.idle": "2024-02-14T13:50:32.803468Z",
     "shell.execute_reply": "2024-02-14T13:50:32.802963Z"
    }
   },
   "outputs": [],
   "source": [
    "column_names = ['position_x', 'position_y', 'velocity_x', 'velocity_y']\n",
    "query = ['data.data['+str(i)+']' for i in range(len(column_names))]\n",
    "\n",
    "F = citros.simulation(my_simulation).batch(my_batch).topic('/cannon/state').data(query)\n",
    "F.rename({query[i]: column_names[i] for i in range(len(query))}, axis = 1, inplace = True)\n",
    "\n",
    "dt = 0.01\n",
    "F['t'] = F['rid']*dt\n",
    "\n",
    "print(F.head(5))"
   ]
  },
  {
   "cell_type": "markdown",
   "id": "55a09cdf-4472-4cdb-9210-a55bb29b79bc",
   "metadata": {},
   "source": [
    "#### x vs. y plot\n",
    "\n",
    "Let's plot y vs. x. Check if the simulations ids when the the maximum height and maximum flight range are achieved are the same, \n",
    "as we determined previously in [Maximum height](#maximum-height) and [Maximum flight range](#maximum-flight-range) sections."
   ]
  },
  {
   "cell_type": "code",
   "execution_count": null,
   "id": "806ee2a4-d50e-4882-aca7-d2e994630e02",
   "metadata": {
    "execution": {
     "iopub.execute_input": "2024-02-14T13:50:32.805448Z",
     "iopub.status.busy": "2024-02-14T13:50:32.805281Z",
     "iopub.status.idle": "2024-02-14T13:50:32.967621Z",
     "shell.execute_reply": "2024-02-14T13:50:32.967122Z"
    }
   },
   "outputs": [],
   "source": [
    "fig, ax = citros.plot_graph(F, 'position_x', 'position_y', '-')\n",
    "ax.set_title('y vs. x')"
   ]
  },
  {
   "cell_type": "markdown",
   "id": "5808e925-5f95-495a-9bfc-1c65cf8f7766",
   "metadata": {},
   "source": [
    "#### Subplots with a shared x-axis\n",
    "\n",
    "Plot 'position_y' vs 't' and 'velosity_y' vs. 't' on adjacent panels on one figure:"
   ]
  },
  {
   "cell_type": "code",
   "execution_count": null,
   "id": "d7d208e0-f5bf-4aae-b974-b5e09b2c1350",
   "metadata": {
    "execution": {
     "iopub.execute_input": "2024-02-14T13:50:32.969557Z",
     "iopub.status.busy": "2024-02-14T13:50:32.969383Z",
     "iopub.status.idle": "2024-02-14T13:50:33.282795Z",
     "shell.execute_reply": "2024-02-14T13:50:33.282309Z"
    }
   },
   "outputs": [],
   "source": [
    "fig, ax = citros.multiple_y_plot(F, \"t\", [\"position_y\", \"velocity_y\"], '-', \n",
    "            legend = True, title = 'y coordinate and y velocity vs. t', set_x_label = 'time', set_y_label = ['y','v_y'])"
   ]
  },
  {
   "cell_type": "markdown",
   "id": "e5e46299-40a6-45a6-84b5-1f8ca01c520c",
   "metadata": {},
   "source": [
    "### Ellipse error plot\n",
    "\n",
    "Plot error ellipse for the initial values of the velocities:"
   ]
  },
  {
   "cell_type": "code",
   "execution_count": null,
   "id": "5539935a-0832-404a-8496-9d1a5c745dc5",
   "metadata": {
    "execution": {
     "iopub.execute_input": "2024-02-14T13:50:33.284611Z",
     "iopub.status.busy": "2024-02-14T13:50:33.284448Z",
     "iopub.status.idle": "2024-02-14T13:50:33.517449Z",
     "shell.execute_reply": "2024-02-14T13:50:33.516929Z"
    }
   },
   "outputs": [],
   "source": [
    "x = 'data.data[2]'\n",
    "label_x = 'velocity_x'\n",
    "y = 'data.data[3]'\n",
    "label_y = 'velocity_y'\n",
    "\n",
    "#get all possible sid:\n",
    "sid_list = citros.simulation(my_simulation).batch(my_batch).topic('/cannon/state').info()['sid_list']\n",
    "#or using get_unique_values() method:\n",
    "# sid_list = citros.batch(my_batch).topic('/cannon/state').get_unique_values('sid')\n",
    "print(f\"sid numbers: {sid_list}\")\n",
    "\n",
    "#for each sid get the first value of rid:\n",
    "rid_dict = {}\n",
    "for s in sid_list:\n",
    "    rid_dict[s] = citros.simulation(my_simulation).batch(my_batch).topic('/cannon/state').sid(s).get_min_value('rid')\n",
    "print(f\"rid first values: {rid_dict}\")\n",
    "\n",
    "# get the values of 'velocity_x' and 'velocity_y', that corresponds to the first rid:\n",
    "# we are creating an empty DataFrame 'df', query for the values of the exact sid and rid and add the result to the 'df'.\n",
    "\n",
    "import pandas as pd\n",
    "df = pd.DataFrame()\n",
    "\n",
    "for s, r in rid_dict.items():\n",
    "    df = pd.concat([df, citros.simulation(my_simulation).batch(my_batch).topic('/cannon/state').sid(s).rid(r).data([x, y])])\n",
    "\n",
    "df.rename({x: label_x, y: label_y}, axis = 1, inplace = True)\n",
    "\n",
    "fig, ax, ellipse_param = citros.plot_sigma_ellipse(df, x_label = label_x, y_label = label_y, \n",
    "                                    n_std = [1,2,3], plot_origin=False, bounding_error=False,\n",
    "                                    set_x_label=label_x, set_y_label = label_y, title = 'Initial velocity distribution',\n",
    "                                    return_ellipse_param = True)"
   ]
  },
  {
   "cell_type": "markdown",
   "id": "0241a97b-d4b1-4887-924f-9b49f4bc0d81",
   "metadata": {},
   "source": [
    "The returning ellipse parameters are presented in dict or in a list of dicts, if, as in this case, several error ellipses were plotted.\n",
    "Let's print ellipse parameters of the 1-sigma ellipse:"
   ]
  },
  {
   "cell_type": "code",
   "execution_count": null,
   "id": "0f907123-894e-43b9-834d-eb13519bb13b",
   "metadata": {
    "execution": {
     "iopub.execute_input": "2024-02-14T13:50:33.519423Z",
     "iopub.status.busy": "2024-02-14T13:50:33.519229Z",
     "iopub.status.idle": "2024-02-14T13:50:33.522143Z",
     "shell.execute_reply": "2024-02-14T13:50:33.521698Z"
    }
   },
   "outputs": [],
   "source": [
    "ellipse_param_1 = ellipse_param[0]\n",
    "print(\"ellipse parameters:\")\n",
    "print(f\"center: {ellipse_param_1['x']}, {ellipse_param_1['y']}\")\n",
    "print(f\"width: {ellipse_param_1['width']}, height: {ellipse_param_1['height']}\")\n",
    "print(f\"angle: {ellipse_param_1['alpha']}\\n\")"
   ]
  },
  {
   "cell_type": "markdown",
   "id": "6edfe402-c5be-4220-829d-d1cf7541565e",
   "metadata": {},
   "source": [
    "Plot error ellipse for the values of \"position_x\" and \"position_y\" columns that corresponds to the last rid in each simulation.\n",
    "\n",
    "We are expecting to get a spread in the x-coordinate and a value of exactly zero for the y-coordinate:"
   ]
  },
  {
   "cell_type": "code",
   "execution_count": null,
   "id": "a4cbc427-ce12-4697-a39f-1124677431c2",
   "metadata": {
    "execution": {
     "iopub.execute_input": "2024-02-14T13:50:33.523962Z",
     "iopub.status.busy": "2024-02-14T13:50:33.523805Z",
     "iopub.status.idle": "2024-02-14T13:50:33.731102Z",
     "shell.execute_reply": "2024-02-14T13:50:33.730554Z"
    }
   },
   "outputs": [],
   "source": [
    "x = 'data.data[0]'\n",
    "label_x = 'position_x'\n",
    "y = 'data.data[1]'\n",
    "label_y = 'position_y'\n",
    "\n",
    "#get all possible sid:\n",
    "sid_list = citros.simulation(my_simulation).batch(my_batch).topic('/cannon/state').info()['sid_list']\n",
    "#or using get_unique_values() method:\n",
    "# sid_list = citros.batch(my_batch).topic('/cannon/state').get_unique_values('sid')\n",
    "print(f\"sid numbers: {sid_list}\")\n",
    "\n",
    "\n",
    "#for each sid get the last rid:\n",
    "rid_dict = {}\n",
    "for s in sid_list:\n",
    "    rid_dict[s] = citros.simulation(my_simulation).batch(my_batch).topic('/cannon/state').sid(s).get_max_value('rid')\n",
    "print(f\"rid last numbers: {rid_dict}\")\n",
    "\n",
    "# get the values of 'position_x' and 'position_y', that corresponds to the last rid:\n",
    "# we are creating an empty DataFrame 'df', query for the values of the exact sid and rid and add the result to the 'df'.\n",
    "\n",
    "import pandas as pd\n",
    "df = pd.DataFrame()\n",
    "\n",
    "for s, r in rid_dict.items():\n",
    "    df = pd.concat([df, citros.simulation(my_simulation).batch(my_batch).topic('/cannon/state').sid(s).rid(r).data([x, y])])\n",
    "\n",
    "df.rename({x: label_x, y: label_y}, axis = 1, inplace = True)\n",
    "\n",
    "fig, ax, ellipse_param = citros.plot_sigma_ellipse(df, x_label = label_x, y_label = label_y, \n",
    "                                    n_std = [1,2,3], plot_origin=False, bounding_error=False,\n",
    "                                    set_x_label=label_x, set_y_label = label_y, title = 'Error ellipse',\n",
    "                                    return_ellipse_param = True)"
   ]
  },
  {
   "cell_type": "markdown",
   "id": "8fb6b1e8-67a0-43a8-bfab-55a5d0e8a873",
   "metadata": {},
   "source": [
    "## Statistics\n",
    "\n",
    "Let's calculate statistics for the coordinates and velocities for 10 simulations in batch 'cannon_simulation_run'.\n",
    "\n",
    "To analyze data from multiple simulations, it's essential to correlate the values across these various simulations.\n",
    "One strategy is to designate an independent variable and establish a shared scale applicable to all simulations.\n",
    "By assigning indexes on this scale, values of variables from different simulations can be interconnected using this independent variable.\n",
    "\n",
    "Once again, let's download data and calculate time column 't' based on 'rid' and use it as an independent variable."
   ]
  },
  {
   "cell_type": "code",
   "execution_count": null,
   "id": "cac6861a-dcca-4b4b-9e66-45b507fc372f",
   "metadata": {
    "execution": {
     "iopub.execute_input": "2024-02-14T13:50:33.733009Z",
     "iopub.status.busy": "2024-02-14T13:50:33.732826Z",
     "iopub.status.idle": "2024-02-14T13:50:33.792690Z",
     "shell.execute_reply": "2024-02-14T13:50:33.792226Z"
    }
   },
   "outputs": [],
   "source": [
    "column_names = ['position_x', 'position_y', 'velocity_x', 'velocity_y']\n",
    "query = ['data.data['+str(i)+']' for i in range(len(column_names))]\n",
    "\n",
    "F = citros.simulation(my_simulation).batch(my_batch).topic('/cannon/state').data(query)\n",
    "F.rename({query[i]: column_names[i] for i in range(len(query))}, axis = 1, inplace = True)\n",
    "\n",
    "dt = 0.01\n",
    "F['t'] = F['rid']*dt\n",
    "\n",
    "print(F.head(5))"
   ]
  },
  {
   "cell_type": "markdown",
   "id": "24de6f13-f787-4a1b-9b81-f457e11c5ce0",
   "metadata": {},
   "source": [
    "Let's show mean value of each of the coordinate and indicate 3-sigma standard deviation.\n",
    "To assigne indexeces we divide the independent variable 't' into n ranges, assign an index to each interval, \n",
    "and calculate the averages of the data values for each simulation in each range:"
   ]
  },
  {
   "cell_type": "code",
   "execution_count": null,
   "id": "943a1492-36e1-47bc-83b4-390c2b7b7984",
   "metadata": {
    "execution": {
     "iopub.execute_input": "2024-02-14T13:50:33.794834Z",
     "iopub.status.busy": "2024-02-14T13:50:33.794615Z",
     "iopub.status.idle": "2024-02-14T13:50:34.029379Z",
     "shell.execute_reply": "2024-02-14T13:50:34.028858Z"
    }
   },
   "outputs": [],
   "source": [
    "from citros.data import analysis \n",
    "dataset = analysis.CitrosData(F, data_label=['position_x', 'position_y'])\n",
    "db = dataset.bin_data(n_bins = 50, param_label = 't')\n",
    "db.show_statistics(std_area = True, std_lines = False)"
   ]
  },
  {
   "cell_type": "markdown",
   "id": "693ceb6a-7617-45e0-a184-4c1d803f7eb5",
   "metadata": {},
   "source": [
    "Time of flight is different for different simulations and depends on initial angle, so the end of the flight occurs at different times.\n",
    "We can use slightly different approach: instead of binning, we can scale the independent variable to the interval [0,1], \n",
    "define a new range of n points uniformly distributed from 0 to 1, and interpolate data points over this new interval:"
   ]
  },
  {
   "cell_type": "code",
   "execution_count": null,
   "id": "7135297c-f916-451f-9b2f-43d515d75341",
   "metadata": {
    "execution": {
     "iopub.execute_input": "2024-02-14T13:50:34.031268Z",
     "iopub.status.busy": "2024-02-14T13:50:34.031076Z",
     "iopub.status.idle": "2024-02-14T13:50:34.281245Z",
     "shell.execute_reply": "2024-02-14T13:50:34.280855Z"
    }
   },
   "outputs": [],
   "source": [
    "db = dataset.scale_data(n_points = 50, param_label = 't')\n",
    "db.show_statistics(std_area = True, std_lines = False)"
   ]
  },
  {
   "cell_type": "markdown",
   "id": "3c896194-2919-423f-b6fb-b934094aeab5",
   "metadata": {},
   "source": [
    "That way, time axis represents the fraction of the flight.\n",
    "\n",
    "To get mean values, standard deviations and covariance matrixes, execute the following:"
   ]
  },
  {
   "cell_type": "code",
   "execution_count": null,
   "id": "4ed7cb2e-833a-4261-a05a-7ee671fd3625",
   "metadata": {
    "execution": {
     "iopub.execute_input": "2024-02-14T13:50:34.283304Z",
     "iopub.status.busy": "2024-02-14T13:50:34.283109Z",
     "iopub.status.idle": "2024-02-14T13:50:34.304393Z",
     "shell.execute_reply": "2024-02-14T13:50:34.303912Z"
    }
   },
   "outputs": [],
   "source": [
    "stat = db.get_statistics(return_format = 'citrosStat')\n",
    "\n",
    "#`stat` now contains 3 attributes:\n",
    "#the mean values (type - pandas.DataFrame):\n",
    "print('mean values:\\n', stat.mean.head(5))\n",
    "\n",
    "#the standard deviation (type - pandas.DataFrame):\n",
    "print('standard deviation:\\n', stat.std.head(5))\n",
    "\n",
    "#the covariance matrix (type - pandas.Series):\n",
    "print('covariance matrix:\\n', stat.covar_matrix.head(5))"
   ]
  },
  {
   "cell_type": "markdown",
   "id": "d8426cf8-ad37-4476-8800-6e652d2a163b",
   "metadata": {},
   "source": [
    "Let's show the same statistics for the velocities:"
   ]
  },
  {
   "cell_type": "code",
   "execution_count": null,
   "id": "d99e1c24-ec43-4137-96c0-2f7f2443b6b0",
   "metadata": {
    "execution": {
     "iopub.execute_input": "2024-02-14T13:50:34.306331Z",
     "iopub.status.busy": "2024-02-14T13:50:34.306143Z",
     "iopub.status.idle": "2024-02-14T13:50:34.550824Z",
     "shell.execute_reply": "2024-02-14T13:50:34.550340Z"
    }
   },
   "outputs": [],
   "source": [
    "dataset_vel = analysis.CitrosData(F, data_label=['velocity_x', 'velocity_y'])\n",
    "db_vel = dataset_vel.scale_data(n_points = 50, param_label = 't')\n",
    "db_vel.show_statistics(std_area = True, std_lines = False)"
   ]
  },
  {
   "cell_type": "markdown",
   "id": "8603d052-9711-4495-83de-7195097a008b",
   "metadata": {},
   "source": [
    "## Correlation\n",
    "\n",
    "Plot correlation plot for the exact index by `show_correlation()` method.\n",
    "\n",
    "For example, to show correlation between two columns, 'velocity_x' and 'velocity_y' at the start of the simulation,\n",
    "set index `slice_id` = 0 and plot 1-,2- and 3-sigma intevals:"
   ]
  },
  {
   "cell_type": "code",
   "execution_count": null,
   "id": "0fbffbf4-ef6c-4968-a7d9-58581d7f3c2b",
   "metadata": {
    "execution": {
     "iopub.execute_input": "2024-02-14T13:50:34.552860Z",
     "iopub.status.busy": "2024-02-14T13:50:34.552667Z",
     "iopub.status.idle": "2024-02-14T13:50:34.695480Z",
     "shell.execute_reply": "2024-02-14T13:50:34.694997Z"
    }
   },
   "outputs": [],
   "source": [
    "db_vel.show_correlation(x_col = 'velocity_x',  y_col = 'velocity_y', slice_id = 0, n_std = [1,2,3])"
   ]
  },
  {
   "cell_type": "markdown",
   "id": "f79df18e-efe2-4c7e-a3ff-d8ba2eb9f364",
   "metadata": {},
   "source": [
    "Let's display the coordinate slice in the middle of the flight. We can specify approximate value by 'slice_val'.\n",
    "As the 't' axis is normalized to unit range, in the middle of the simulation it equals 0.5.\n",
    "\n",
    "Let's get the parameter of the 3-sigma error ellipse and print them:"
   ]
  },
  {
   "cell_type": "code",
   "execution_count": null,
   "id": "8e54bab0-6f82-4116-b84c-cf73824329f4",
   "metadata": {
    "execution": {
     "iopub.execute_input": "2024-02-14T13:50:34.697507Z",
     "iopub.status.busy": "2024-02-14T13:50:34.697308Z",
     "iopub.status.idle": "2024-02-14T13:50:34.830066Z",
     "shell.execute_reply": "2024-02-14T13:50:34.829613Z"
    }
   },
   "outputs": [],
   "source": [
    "ellipse_param = db.show_correlation(x_col = 'position_x',  y_col = 'position_y', slice_val = 0.5, n_std = 3, return_ellipse_param = True)\n",
    "\n",
    "print(\"ellipse parameters:\")\n",
    "print(f\"center: {ellipse_param['x']}, {ellipse_param['y']}\")\n",
    "print(f\"width: {ellipse_param['width']}, height: {ellipse_param['height']}\")\n",
    "print(f\"angle: {ellipse_param['alpha']}\\n\")"
   ]
  },
  {
   "cell_type": "markdown",
   "id": "7f9baecc-dd99-4a43-b9d8-c78e3ec0f012",
   "metadata": {},
   "source": [
    "If `bounding_error` = True, then the radius of the bounding error also may be printed:"
   ]
  },
  {
   "cell_type": "code",
   "execution_count": null,
   "id": "663e791a-54ef-4063-a2ea-37a8f266c41f",
   "metadata": {
    "execution": {
     "iopub.execute_input": "2024-02-14T13:50:34.831949Z",
     "iopub.status.busy": "2024-02-14T13:50:34.831790Z",
     "iopub.status.idle": "2024-02-14T13:50:35.052540Z",
     "shell.execute_reply": "2024-02-14T13:50:35.052114Z"
    }
   },
   "outputs": [],
   "source": [
    "ellipse_param = db.show_correlation(x_col = 'position_x',  y_col = 'position_y', slice_val = 0.5, n_std = 3, \n",
    "                                    return_ellipse_param = True, bounding_error = True)\n",
    "\n",
    "print(f\"radius of the error circle: {ellipse_param['bounding_error']}\\n\")"
   ]
  },
  {
   "cell_type": "markdown",
   "id": "04da0d14-0286-4422-ba84-abcf399f9232",
   "metadata": {},
   "source": [
    "## Validation"
   ]
  },
  {
   "cell_type": "markdown",
   "id": "3ad701f2-6516-42b8-a378-fb77dabeb031",
   "metadata": {},
   "source": [
    "Let's query data in the same way as we did in [statistics](#statistics), but withdrow the last point in each simulation.\n",
    "This way we will get only flight phase data before crash.\n",
    "Also let's make a new column velocity and calculate distance from the initial point:"
   ]
  },
  {
   "cell_type": "code",
   "execution_count": null,
   "id": "6dab6839-0f34-4b66-b170-3b24e7b893b4",
   "metadata": {
    "execution": {
     "iopub.execute_input": "2024-02-14T13:50:35.054561Z",
     "iopub.status.busy": "2024-02-14T13:50:35.054345Z",
     "iopub.status.idle": "2024-02-14T13:50:35.163261Z",
     "shell.execute_reply": "2024-02-14T13:50:35.162743Z"
    }
   },
   "outputs": [],
   "source": [
    "column_names = ['position_x', 'position_y', 'velocity_x', 'velocity_y']\n",
    "query = ['data.data['+str(i)+']' for i in range(len(column_names))]\n",
    "\n",
    "#get all possible sid:\n",
    "sid_list = citros.simulation(my_simulation).batch(my_batch).topic('/cannon/state').info()['sid_list']\n",
    "print(f\"sid numbers: {sid_list}\")\n",
    "\n",
    "#for each sid get the last rid:\n",
    "rid_dict = {}\n",
    "for s in sid_list:\n",
    "    rid_dict[s] = citros.simulation(my_simulation).batch(my_batch).topic('/cannon/state').sid(s).get_max_value('rid')\n",
    "print(f\"rid last numbers: {rid_dict}\")\n",
    "\n",
    "#set constraints on by rid() method\n",
    "import pandas as pd\n",
    "F = pd.DataFrame()\n",
    "\n",
    "for s, r in rid_dict.items():\n",
    "    F = pd.concat([F, citros.simulation(my_simulation).batch(my_batch).topic('/cannon/state').sid(s).rid(end = r-1).data(query)])\n",
    "F.rename({query[i]: column_names[i] for i in range(len(query))}, axis = 1, inplace = True)\n",
    "\n",
    "dt = 0.01\n",
    "F['t'] = F['rid']*dt\n",
    "\n",
    "#calculate total velocity\n",
    "import numpy as np\n",
    "F['velocity'] = np.sqrt(F['velocity_x']**2+F['velocity_y']**2)\n",
    "F['d'] = np.sqrt(F['position_x']**2+F['position_y']**2)\n",
    "\n",
    "print(F.head(5))"
   ]
  },
  {
   "cell_type": "code",
   "execution_count": null,
   "id": "da7bbeda-f136-49a7-a184-83f0982183ab",
   "metadata": {
    "execution": {
     "iopub.execute_input": "2024-02-14T13:50:35.165179Z",
     "iopub.status.busy": "2024-02-14T13:50:35.164977Z",
     "iopub.status.idle": "2024-02-14T13:50:35.167327Z",
     "shell.execute_reply": "2024-02-14T13:50:35.166868Z"
    }
   },
   "outputs": [],
   "source": [
    "from citros.data import validation as va"
   ]
  },
  {
   "cell_type": "markdown",
   "metadata": {},
   "source": []
  },
  {
   "cell_type": "markdown",
   "id": "68def30f-5bdd-4ee8-8e9b-8ea04d1b7dc3",
   "metadata": {},
   "source": [
    "Construct Validation object. It determines how the data will be preprocessed:\n",
    "\n",
    "- `data_label` determine data columns, \n",
    "- `param_label` is for independent variable that will be used for setting correspondence between different sids and \n",
    "- `method` determines the method of index assignment:\n",
    "  - 'scale': by scaling 'param_label' to unit interval and interpolating data on this interval,\n",
    "  - 'bin': by deviding 'param_label' on bins and calculating mean data values among points falled in each bin, \n",
    "- `num` determines number of points if method set as 'scale' or bins if 'method' set as 'bin':"
   ]
  },
  {
   "cell_type": "code",
   "execution_count": null,
   "id": "b12e7fc3-807d-4386-ac87-165ec28cc1ce",
   "metadata": {
    "execution": {
     "iopub.execute_input": "2024-02-14T13:50:35.169130Z",
     "iopub.status.busy": "2024-02-14T13:50:35.168954Z",
     "iopub.status.idle": "2024-02-14T13:50:35.212016Z",
     "shell.execute_reply": "2024-02-14T13:50:35.211524Z"
    }
   },
   "outputs": [],
   "source": [
    "V = va.Validation(F, data_label = ['velocity_x', 'velocity_y'], param_label = 't', method = 'scale', num = 50)"
   ]
  },
  {
   "cell_type": "markdown",
   "id": "a105c7d4-0c21-403e-9ebc-45dc03e76930",
   "metadata": {},
   "source": [
    "### Check velocity standard deviation boundary\n",
    "\n",
    "Let's check if the difference in velocities among the simulations is not too much, say the standard deviation boundary for x velocity \n",
    "component is within the inteval -10 to 80 and from -70 to 70 for y velocity component:\n"
   ]
  },
  {
   "cell_type": "markdown",
   "id": "769ee41c-fcec-498a-8c42-217ff0fca1a4",
   "metadata": {},
   "source": [
    "- `limits`: \n",
    "  - a one value to set the same +-limits to elements of the vector, for examples limits = 0.25\n",
    "  - list of values to set +-limits for each vector element, for examples limits = [0.25, 0.5, 100]\n",
    "  - list of lists to set lower and upper intervals separately, for examples limits = [0.25, [-0.3, 0.8], [-150, 100]]\n",
    "- `n_std`: number of standard deviations in standard deviation boundary\n",
    "- `nan_passed`: whether nan values are treated as passed test or not\n",
    "- to style the plot:\n",
    "  - `std_area` - set True to fill with color standard deviation boundary\n",
    "  - `std_lines` - set False to remove standard deviation boundary lines\n",
    "  - `std_color` - set standard deviation boundary color, default 'b'"
   ]
  },
  {
   "cell_type": "code",
   "execution_count": null,
   "id": "8bf2a583-be30-4e4c-b5b6-cd849e4a1c6e",
   "metadata": {
    "execution": {
     "iopub.execute_input": "2024-02-14T13:50:35.214343Z",
     "iopub.status.busy": "2024-02-14T13:50:35.214171Z",
     "iopub.status.idle": "2024-02-14T13:50:35.460951Z",
     "shell.execute_reply": "2024-02-14T13:50:35.460505Z"
    }
   },
   "outputs": [],
   "source": [
    "log, table, fig = V.std_bound_test(limits = [[-10, 80], 70], n_std = 3, std_area = True, std_lines = False, std_color = 'b')"
   ]
  },
  {
   "cell_type": "markdown",
   "id": "d4c3410c-66f3-4ddc-8546-ad601c099ece",
   "metadata": {},
   "source": [
    "### Check velocity standard deviation\n",
    "\n",
    "We can check that the standard deviation values themselves do not exceed the limits, for example that 1 sigma < 15 for both velocities:"
   ]
  },
  {
   "cell_type": "code",
   "execution_count": null,
   "id": "0fdea515-c2b1-4bdc-808d-934863059063",
   "metadata": {
    "execution": {
     "iopub.execute_input": "2024-02-14T13:50:35.462882Z",
     "iopub.status.busy": "2024-02-14T13:50:35.462707Z",
     "iopub.status.idle": "2024-02-14T13:50:35.630506Z",
     "shell.execute_reply": "2024-02-14T13:50:35.630042Z"
    }
   },
   "outputs": [],
   "source": [
    "log, table, fig = V.std_test(limits = 15, n_std = 1, std_area = True, std_lines = True, std_color = 'b')"
   ]
  },
  {
   "cell_type": "markdown",
   "id": "f57a7f14-f767-4283-a177-5e7ed5e711dd",
   "metadata": {},
   "source": [
    "### Check mean velocity value\n",
    "\n",
    "Let's check if the mean total valocity is always within the limits [30, 60]:"
   ]
  },
  {
   "cell_type": "code",
   "execution_count": null,
   "id": "993a4d72-2b31-4b5a-b5be-a0066c45d802",
   "metadata": {
    "execution": {
     "iopub.execute_input": "2024-02-14T13:50:35.632445Z",
     "iopub.status.busy": "2024-02-14T13:50:35.632289Z",
     "iopub.status.idle": "2024-02-14T13:50:35.777742Z",
     "shell.execute_reply": "2024-02-14T13:50:35.777246Z"
    }
   },
   "outputs": [],
   "source": [
    "V = va.Validation(F, data_label = ['velocity'], param_label = 't', method = 'scale', num = 50)"
   ]
  },
  {
   "cell_type": "code",
   "execution_count": null,
   "id": "5c41ad23-6610-4267-bf3b-9dd476f262e9",
   "metadata": {
    "execution": {
     "iopub.execute_input": "2024-02-14T13:50:35.780195Z",
     "iopub.status.busy": "2024-02-14T13:50:35.780010Z",
     "iopub.status.idle": "2024-02-14T13:50:35.922972Z",
     "shell.execute_reply": "2024-02-14T13:50:35.922391Z"
    }
   },
   "outputs": [],
   "source": [
    "log, table, fig = V.mean_test(limits = [20, 60])"
   ]
  },
  {
   "cell_type": "markdown",
   "id": "90d435cd-137a-449b-8479-6da7d1f31511",
   "metadata": {},
   "source": [
    "Some points of the individual simulations may exceed the limits, but the test will be still passed as long as the mean values are within limit."
   ]
  },
  {
   "cell_type": "markdown",
   "id": "d3a2ee92-b340-4864-90a8-e6939584ee41",
   "metadata": {},
   "source": [
    "### Check velocity of each simulation"
   ]
  },
  {
   "cell_type": "code",
   "execution_count": null,
   "id": "d7d586ee-2b20-4eb6-8a19-047d2627968b",
   "metadata": {
    "execution": {
     "iopub.execute_input": "2024-02-14T13:50:35.924733Z",
     "iopub.status.busy": "2024-02-14T13:50:35.924568Z",
     "iopub.status.idle": "2024-02-14T13:50:36.075336Z",
     "shell.execute_reply": "2024-02-14T13:50:36.074674Z"
    }
   },
   "outputs": [],
   "source": [
    "log, table, fig = V.sid_test(limits = [20, 60])"
   ]
  },
  {
   "cell_type": "markdown",
   "id": "e8090694-e384-4741-b827-c1ae024ef6eb",
   "metadata": {},
   "source": [
    "Some simulations may not pass the test. Print the report of the test to learn more:"
   ]
  },
  {
   "cell_type": "code",
   "execution_count": null,
   "id": "95de14ae-1bb9-4428-878c-092e62c18d1e",
   "metadata": {
    "execution": {
     "iopub.execute_input": "2024-02-14T13:50:36.077378Z",
     "iopub.status.busy": "2024-02-14T13:50:36.077054Z",
     "iopub.status.idle": "2024-02-14T13:50:36.080080Z",
     "shell.execute_reply": "2024-02-14T13:50:36.079704Z"
    }
   },
   "outputs": [],
   "source": [
    "log.print()"
   ]
  },
  {
   "cell_type": "markdown",
   "id": "112c4a7d-1dcc-41d8-862a-55bdcc338794",
   "metadata": {},
   "source": [
    "We can see which fraction of the simulations pass the test and also the details about each simulation pass rate.\n",
    "\n",
    "Let's display fraction of points, which passed the test, and indices and x values of the failed points for the simulation 2:"
   ]
  },
  {
   "cell_type": "code",
   "execution_count": null,
   "id": "cee725c7-1a80-4c8d-8b0c-7ef7a3638e8d",
   "metadata": {
    "execution": {
     "iopub.execute_input": "2024-02-14T13:50:36.082131Z",
     "iopub.status.busy": "2024-02-14T13:50:36.081781Z",
     "iopub.status.idle": "2024-02-14T13:50:36.085232Z",
     "shell.execute_reply": "2024-02-14T13:50:36.084723Z"
    }
   },
   "outputs": [],
   "source": [
    "total_pass_rate = log['velocity']['pass_rate']['sid_fraction']\n",
    "pass_rate_sid_2 = log['velocity']['pass_rate'][2]\n",
    "\n",
    "print(f\"Test was passed by {total_pass_rate*100} per cent of simulations\")\n",
    "print(f\"{pass_rate_sid_2*100} per cent of points of the simulation 2 passed the test\")\n",
    "print(\"indices and corresponding to them independent value of the points that failed test:\")\n",
    "log['velocity']['failed'][1].print()\n",
    "\n",
    "print(log['velocity']['failed'])"
   ]
  },
  {
   "cell_type": "markdown",
   "id": "3a7f0dff-1b70-478e-974b-89733fe6a8bf",
   "metadata": {},
   "source": [
    "One of the returned parameters is a DataFrame, each cell indicates whether the correspondingh point passes the test or not:"
   ]
  },
  {
   "cell_type": "code",
   "execution_count": null,
   "id": "796cf22a-383b-4782-a30c-353b1f656904",
   "metadata": {
    "execution": {
     "iopub.execute_input": "2024-02-14T13:50:36.087161Z",
     "iopub.status.busy": "2024-02-14T13:50:36.086840Z",
     "iopub.status.idle": "2024-02-14T13:50:36.090995Z",
     "shell.execute_reply": "2024-02-14T13:50:36.090501Z"
    }
   },
   "outputs": [],
   "source": [
    "print(table.xs(2, level = 'sid').head(5)) #method head(n) return first n rows of the DataFrame table"
   ]
  },
  {
   "cell_type": "markdown",
   "id": "22728ba3-732e-4841-b553-d58a70842a7c",
   "metadata": {},
   "source": [
    "### Check maximum distance"
   ]
  },
  {
   "cell_type": "markdown",
   "id": "cccd5985-3f45-401a-8791-5f5fe0d14fbb",
   "metadata": {},
   "source": [
    "Test if the distance of each simulation do not exceed the limit, for example 50\n",
    "\n",
    "We will use norm test, where the norm is defined as the absolute maximum - Linf norm"
   ]
  },
  {
   "cell_type": "code",
   "execution_count": null,
   "id": "c5257e79-76b9-4d3b-af41-5bc2ec9e7a0c",
   "metadata": {
    "execution": {
     "iopub.execute_input": "2024-02-14T13:50:36.092814Z",
     "iopub.status.busy": "2024-02-14T13:50:36.092659Z",
     "iopub.status.idle": "2024-02-14T13:50:36.254991Z",
     "shell.execute_reply": "2024-02-14T13:50:36.254031Z"
    }
   },
   "outputs": [],
   "source": [
    "V = va.Validation(F, data_label = ['d'], param_label = 't', method = 'scale', num = 50)\n",
    "\n",
    "log1, table, fig = V.norm_test(norm_type = 'Linf', limits = 350)"
   ]
  }
 ],
 "metadata": {
  "kernelspec": {
   "display_name": "Python 3",
   "language": "python",
   "name": "python3"
  },
  "language_info": {
   "codemirror_mode": {
    "name": "ipython",
    "version": 3
   },
   "file_extension": ".py",
   "mimetype": "text/x-python",
   "name": "python",
   "nbconvert_exporter": "python",
   "pygments_lexer": "ipython3",
   "version": "3.10.12"
  }
 },
 "nbformat": 4,
 "nbformat_minor": 4
}

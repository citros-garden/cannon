{
   "cells": [
      {
         "cell_type": "code",
         "execution_count": null,
         "id": "340d1a41-fa57-4fc5-9358-1bce07aa2828",
         "metadata": {
            "execution": {
               "iopub.execute_input": 4534
            }
         },
         "outputs": [],
         "source": "from citros_data_analysis import data_access as da\n# vova1223\nda.get_version()\n\nimport os  \n \nprint(os.getenv(\"PG_USER\"))\nprint(os.getenv(\"PG_PASSWORD\"))\nprint(os.getenv(\"PG_DATABASE\")) ",
         "attachments": null
      },
      {
         "cell_type": "code",
         "execution_count": 3,
         "id": "b0098d96-cbff-4444-8b0a-86efc134fb3c",
         "metadata": {
            "execution": {
               "iopub.execute_input": 695
            }
         },
         "outputs": [],
         "source": [
            "citros = da.CitrosDB()\n",
            "\n",
            "citros.repo('cannon').batch_info(-1).print()\n",
            "citros.repo('cannon').batch(-1).info()"
         ],
         "attachments": null
      },
      {
         "cell_type": "code",
         "execution_count": 4,
         "id": "18fbff34-50ec-41d8-a237-cea901502d7c",
         "metadata": {
            "execution": {
               "iopub.execute_input": 406
            }
         },
         "outputs": [],
         "source": [
            "# citros.repo('cannon').batch(-1).topic('/cannon/state').info().print()\n",
            "citros.repo('cannon').batch(-1).topic('/cannon/state').get_data_structure()"
         ],
         "attachments": null
      },
      {
         "cell_type": "code",
         "execution_count": 5,
         "id": "89ee5271-05f4-43de-a0fe-ff29f670dbf1",
         "metadata": {
            "execution": {
               "iopub.execute_input": 728
            }
         },
         "outputs": [],
         "source": [
            "\n",
            "\n",
            "citros.repo('cannon').batch(-1).topic('/cannon/state').data(['data.data[1]']).sort_values(by='rid').set_index(['rid','sid']).unstack()['data.data[1]'].plot().grid()\n",
            "\n",
            "\n"
         ],
         "attachments": null
      }
   ],
   "metadata": {
      "kernelspec": {
         "display_name": "Python 3",
         "language": "python",
         "name": "python3"
      },
      "language_info": {
         "name": "python",
         "version": "3.10.12"
      },
      "orig_nbformat": 4
   },
   "nbformat": 4,
   "nbformat_minor": 4
}
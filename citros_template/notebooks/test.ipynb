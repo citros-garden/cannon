{
   "cells": [
      {
         "cell_type": "code",
         "execution_count": 14,
         "id": "18fbff34-50ec-41d8-a237-cea901502d7c",
         "metadata": {
            "execution": {
               "iopub.execute_input": 406
            }
         },
         "outputs": [
            {
               "name": "stdout",
               "output_type": "stream",
               "text": [
                  "{\n",
                  " 'size': '213 kB',\n",
                  " 'sid_count': 1,\n",
                  " 'sid_list': [0],\n",
                  " 'topic_count': 3,\n",
                  " 'topic_list': ['/cannon/state', '/config', '/scheduler'],\n",
                  " 'message_count': 1029\n",
                  "}\n"
               ]
            }
         ],
         "source": [
            "import citros.citros_data_analysis.data_access as da\n",
            "citros = da.CitrosDB()\n",
            "citros.simulation('simulation_cannon_analytic').batch('citros').info().print()\n",
            "# citros.simulation('simulation_cannon_analytic').batch('citros').topic('/cannon/state').info().print()\n"
         ]
      },
      {
         "cell_type": "code",
         "execution_count": 15,
         "id": "89ee5271-05f4-43de-a0fe-ff29f670dbf1",
         "metadata": {
            "execution": {
               "iopub.execute_input": 728
            }
         },
         "outputs": [
            {
               "name": "stdout",
               "output_type": "stream",
               "text": [
                  "{\n",
                  " 'size': '135 kB',\n",
                  " 'sid_count': 1,\n",
                  " 'sid_list': [0],\n",
                  " 'topic_count': 1,\n",
                  " 'topic_list': ['/cannon/state'],\n",
                  " 'message_count': 511,\n",
                  " 'topics': {\n",
                  "   '/cannon/state': {\n",
                  "     'type': 'std_msgs/msg/Float64MultiArray',\n",
                  "     'data_structure': {\n",
                  "       'data': {\n",
                  "         'data': 'list',\n",
                  "         '__msgtype__': 'str'\n",
                  "       }\n",
                  "     },\n",
                  "     'message_count': 511\n",
                  "   }\n",
                  " }\n",
                  "}\n"
               ]
            }
         ],
         "source": [
            "citros.simulation('simulation_cannon_analytic').batch('citros').topic('/cannon/state').info().print()"
         ]
      },
      {
         "cell_type": "code",
         "execution_count": 17,
         "metadata": {},
         "outputs": [
            {
               "data": {
                  "text/html": [
                     "<div>\n",
                     "<style scoped>\n",
                     "    .dataframe tbody tr th:only-of-type {\n",
                     "        vertical-align: middle;\n",
                     "    }\n",
                     "\n",
                     "    .dataframe tbody tr th {\n",
                     "        vertical-align: top;\n",
                     "    }\n",
                     "\n",
                     "    .dataframe thead th {\n",
                     "        text-align: right;\n",
                     "    }\n",
                     "</style>\n",
                     "<table border=\"1\" class=\"dataframe\">\n",
                     "  <thead>\n",
                     "    <tr style=\"text-align: right;\">\n",
                     "      <th></th>\n",
                     "      <th>sid</th>\n",
                     "      <th>rid</th>\n",
                     "      <th>time</th>\n",
                     "      <th>topic</th>\n",
                     "      <th>type</th>\n",
                     "      <th>data.data[0]</th>\n",
                     "      <th>data.data[1]</th>\n",
                     "    </tr>\n",
                     "  </thead>\n",
                     "  <tbody>\n",
                     "    <tr>\n",
                     "      <th>0</th>\n",
                     "      <td>0</td>\n",
                     "      <td>0</td>\n",
                     "      <td>1704230048436517496</td>\n",
                     "      <td>/cannon/state</td>\n",
                     "      <td>std_msgs/msg/Float64MultiArray</td>\n",
                     "      <td>0.000000</td>\n",
                     "      <td>0.000000</td>\n",
                     "    </tr>\n",
                     "    <tr>\n",
                     "      <th>1</th>\n",
                     "      <td>0</td>\n",
                     "      <td>1</td>\n",
                     "      <td>1704230048447915718</td>\n",
                     "      <td>/cannon/state</td>\n",
                     "      <td>std_msgs/msg/Float64MultiArray</td>\n",
                     "      <td>0.433013</td>\n",
                     "      <td>0.249509</td>\n",
                     "    </tr>\n",
                     "    <tr>\n",
                     "      <th>2</th>\n",
                     "      <td>0</td>\n",
                     "      <td>2</td>\n",
                     "      <td>1704230048455867632</td>\n",
                     "      <td>/cannon/state</td>\n",
                     "      <td>std_msgs/msg/Float64MultiArray</td>\n",
                     "      <td>0.866025</td>\n",
                     "      <td>0.498038</td>\n",
                     "    </tr>\n",
                     "    <tr>\n",
                     "      <th>3</th>\n",
                     "      <td>0</td>\n",
                     "      <td>3</td>\n",
                     "      <td>1704230048466851686</td>\n",
                     "      <td>/cannon/state</td>\n",
                     "      <td>std_msgs/msg/Float64MultiArray</td>\n",
                     "      <td>1.299038</td>\n",
                     "      <td>0.745585</td>\n",
                     "    </tr>\n",
                     "    <tr>\n",
                     "      <th>4</th>\n",
                     "      <td>0</td>\n",
                     "      <td>4</td>\n",
                     "      <td>1704230048476607651</td>\n",
                     "      <td>/cannon/state</td>\n",
                     "      <td>std_msgs/msg/Float64MultiArray</td>\n",
                     "      <td>1.732051</td>\n",
                     "      <td>0.992152</td>\n",
                     "    </tr>\n",
                     "    <tr>\n",
                     "      <th>...</th>\n",
                     "      <td>...</td>\n",
                     "      <td>...</td>\n",
                     "      <td>...</td>\n",
                     "      <td>...</td>\n",
                     "      <td>...</td>\n",
                     "      <td>...</td>\n",
                     "      <td>...</td>\n",
                     "    </tr>\n",
                     "    <tr>\n",
                     "      <th>506</th>\n",
                     "      <td>0</td>\n",
                     "      <td>1005</td>\n",
                     "      <td>1704230053495938524</td>\n",
                     "      <td>/cannon/state</td>\n",
                     "      <td>std_msgs/msg/Float64MultiArray</td>\n",
                     "      <td>219.104427</td>\n",
                     "      <td>0.914342</td>\n",
                     "    </tr>\n",
                     "    <tr>\n",
                     "      <th>507</th>\n",
                     "      <td>0</td>\n",
                     "      <td>1007</td>\n",
                     "      <td>1704230053506089574</td>\n",
                     "      <td>/cannon/state</td>\n",
                     "      <td>std_msgs/msg/Float64MultiArray</td>\n",
                     "      <td>219.537440</td>\n",
                     "      <td>0.667466</td>\n",
                     "    </tr>\n",
                     "    <tr>\n",
                     "      <th>508</th>\n",
                     "      <td>0</td>\n",
                     "      <td>1009</td>\n",
                     "      <td>1704230053515709871</td>\n",
                     "      <td>/cannon/state</td>\n",
                     "      <td>std_msgs/msg/Float64MultiArray</td>\n",
                     "      <td>219.970453</td>\n",
                     "      <td>0.419608</td>\n",
                     "    </tr>\n",
                     "    <tr>\n",
                     "      <th>509</th>\n",
                     "      <td>0</td>\n",
                     "      <td>1011</td>\n",
                     "      <td>1704230053526285340</td>\n",
                     "      <td>/cannon/state</td>\n",
                     "      <td>std_msgs/msg/Float64MultiArray</td>\n",
                     "      <td>220.403465</td>\n",
                     "      <td>0.170770</td>\n",
                     "    </tr>\n",
                     "    <tr>\n",
                     "      <th>510</th>\n",
                     "      <td>0</td>\n",
                     "      <td>1013</td>\n",
                     "      <td>1704230053536585349</td>\n",
                     "      <td>/cannon/state</td>\n",
                     "      <td>std_msgs/msg/Float64MultiArray</td>\n",
                     "      <td>220.699644</td>\n",
                     "      <td>0.000000</td>\n",
                     "    </tr>\n",
                     "  </tbody>\n",
                     "</table>\n",
                     "<p>511 rows × 7 columns</p>\n",
                     "</div>"
                  ],
                  "text/plain": [
                     "     sid   rid                 time          topic  \\\n",
                     "0      0     0  1704230048436517496  /cannon/state   \n",
                     "1      0     1  1704230048447915718  /cannon/state   \n",
                     "2      0     2  1704230048455867632  /cannon/state   \n",
                     "3      0     3  1704230048466851686  /cannon/state   \n",
                     "4      0     4  1704230048476607651  /cannon/state   \n",
                     "..   ...   ...                  ...            ...   \n",
                     "506    0  1005  1704230053495938524  /cannon/state   \n",
                     "507    0  1007  1704230053506089574  /cannon/state   \n",
                     "508    0  1009  1704230053515709871  /cannon/state   \n",
                     "509    0  1011  1704230053526285340  /cannon/state   \n",
                     "510    0  1013  1704230053536585349  /cannon/state   \n",
                     "\n",
                     "                               type  data.data[0]  data.data[1]  \n",
                     "0    std_msgs/msg/Float64MultiArray      0.000000      0.000000  \n",
                     "1    std_msgs/msg/Float64MultiArray      0.433013      0.249509  \n",
                     "2    std_msgs/msg/Float64MultiArray      0.866025      0.498038  \n",
                     "3    std_msgs/msg/Float64MultiArray      1.299038      0.745585  \n",
                     "4    std_msgs/msg/Float64MultiArray      1.732051      0.992152  \n",
                     "..                              ...           ...           ...  \n",
                     "506  std_msgs/msg/Float64MultiArray    219.104427      0.914342  \n",
                     "507  std_msgs/msg/Float64MultiArray    219.537440      0.667466  \n",
                     "508  std_msgs/msg/Float64MultiArray    219.970453      0.419608  \n",
                     "509  std_msgs/msg/Float64MultiArray    220.403465      0.170770  \n",
                     "510  std_msgs/msg/Float64MultiArray    220.699644      0.000000  \n",
                     "\n",
                     "[511 rows x 7 columns]"
                  ]
               },
               "execution_count": 17,
               "metadata": {},
               "output_type": "execute_result"
            }
         ],
         "source": [
            "citros.simulation('simulation_cannon_analytic').batch('citros').topic('/cannon/state').data(['data.data[0]', 'data.data[1]'])"
         ]
      },
      {
         "cell_type": "code",
         "execution_count": 18,
         "metadata": {},
         "outputs": [
            {
               "data": {
                  "image/png": "[encoded data removed]",
                  "text/plain": [
                     "<Figure size 640x480 with 1 Axes>"
                  ]
               },
               "metadata": {},
               "output_type": "display_data"
            }
         ],
         "source": [
            "citros.simulation('simulation_cannon_analytic').batch('citros').topic('/cannon/state').data(['data.data[1]']).sort_values(by='rid').set_index(['rid','sid']).unstack()['data.data[1]'].plot().grid()"
         ]
      }
   ],
   "metadata": {
      "kernelspec": {
         "display_name": "Python 3",
         "language": "python",
         "name": "python3"
      },
      "language_info": {
         "codemirror_mode": {
            "name": "ipython",
            "version": 3
         },
         "file_extension": ".py",
         "mimetype": "text/x-python",
         "name": "python",
         "nbconvert_exporter": "python",
         "pygments_lexer": "ipython3",
         "version": "3.11.6"
      },
      "orig_nbformat": 4
   },
   "nbformat": 4,
   "nbformat_minor": 4
}
